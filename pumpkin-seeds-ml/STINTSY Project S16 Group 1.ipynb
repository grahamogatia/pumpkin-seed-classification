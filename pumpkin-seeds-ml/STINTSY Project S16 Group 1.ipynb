{
 "cells": [
  {
   "cell_type": "markdown",
   "metadata": {
    "id": "j-PWd3_PDRfj"
   },
   "source": [
    "# **STINTSY Project**\n",
    "**S16 Group <#>**\n",
    "\n",
    "Names:\n",
    "\n",
    "Adrada, Jasper John\n",
    "\n",
    "David, Rain Caitlin Aelis\n",
    "\n",
    "Badiola, Maxine Beatriz\n",
    "\n",
    "Ogatia, Graham Joshua\n",
    "\n"
   ]
  },
  {
   "cell_type": "markdown",
   "metadata": {
    "id": "OxPn2kf0DFQa"
   },
   "source": [
    "# **Load Dataset**"
   ]
  },
  {
   "cell_type": "code",
   "execution_count": null,
   "metadata": {
    "ExecuteTime": {
     "end_time": "2024-11-27T02:28:18.341929Z",
     "start_time": "2024-11-27T02:28:18.266245Z"
    },
    "colab": {
     "base_uri": "https://localhost:8080/",
     "height": 470
    },
    "executionInfo": {
     "elapsed": 18522,
     "status": "ok",
     "timestamp": 1732652178519,
     "user": {
      "displayName": "Maxine Beatriz Badiola",
      "userId": "09199181290299414146"
     },
     "user_tz": -480
    },
    "id": "peUjjXGQ7WOx",
    "outputId": "7802c601-d432-454b-e735-bd092a1a164e"
   },
   "outputs": [],
   "source": [
    "import pandas as pd\n",
    "file = 'pumpkin_seeds.csv'\n",
    "df = pd.read_csv(file, encoding='latin1')\n",
    "\n",
    "display(df.head(10))"
   ]
  },
  {
   "cell_type": "markdown",
   "metadata": {
    "id": "vjQP2IFGZjjL"
   },
   "source": [
    "# I. Introduction to the problem/task and dataset"
   ]
  },
  {
   "cell_type": "markdown",
   "metadata": {
    "id": "He-1IWC9akbQ"
   },
   "source": [
    "# II. Description of the dataset"
   ]
  },
  {
   "cell_type": "markdown",
   "metadata": {
    "id": "mYXkUxgVa6xu"
   },
   "source": [
    "# III. List of requirements"
   ]
  },
  {
   "cell_type": "markdown",
   "metadata": {
    "id": "WtYp3-9Sa_SA"
   },
   "source": [
    "# IV. Data preprocessing and cleaning"
   ]
  },
  {
   "cell_type": "markdown",
   "metadata": {
    "id": "pGdf0Lpv8Z8U"
   },
   "source": [
    "## A. Cleaning the Dataset"
   ]
  },
  {
   "cell_type": "markdown",
   "metadata": {
    "id": "5uIhpErNvUxW"
   },
   "source": [
    "Check for duplicates."
   ]
  },
  {
   "cell_type": "code",
   "execution_count": null,
   "metadata": {
    "ExecuteTime": {
     "end_time": "2024-11-27T02:28:18.361745Z",
     "start_time": "2024-11-27T02:28:18.346590Z"
    },
    "colab": {
     "base_uri": "https://localhost:8080/"
    },
    "executionInfo": {
     "elapsed": 11,
     "status": "ok",
     "timestamp": 1732652178519,
     "user": {
      "displayName": "Maxine Beatriz Badiola",
      "userId": "09199181290299414146"
     },
     "user_tz": -480
    },
    "id": "-iU1XHfPvUQ2",
    "outputId": "a0e957f0-1ff1-4cdf-8c4c-6fbdc109d730"
   },
   "outputs": [],
   "source": [
    "duplicates = df.duplicated().sum()\n",
    "print(f\"Duplicate rows: {duplicates}\")\n"
   ]
  },
  {
   "cell_type": "markdown",
   "metadata": {
    "id": "CRkCS6E37wqD"
   },
   "source": [
    "Check for null values."
   ]
  },
  {
   "cell_type": "code",
   "execution_count": null,
   "metadata": {
    "ExecuteTime": {
     "end_time": "2024-11-27T02:28:18.371781Z",
     "start_time": "2024-11-27T02:28:18.364972Z"
    },
    "colab": {
     "base_uri": "https://localhost:8080/"
    },
    "executionInfo": {
     "elapsed": 11,
     "status": "ok",
     "timestamp": 1732652178520,
     "user": {
      "displayName": "Maxine Beatriz Badiola",
      "userId": "09199181290299414146"
     },
     "user_tz": -480
    },
    "id": "hxnYyGgC26vD",
    "outputId": "ffc4b865-2b41-4cec-be48-6e34f167e4fd"
   },
   "outputs": [],
   "source": [
    "null_val = df.isnull().sum()\n",
    "print(\"Missing values in each column:\\n\",null_val)"
   ]
  },
  {
   "cell_type": "markdown",
   "metadata": {
    "id": "XE0GZU7675-P"
   },
   "source": [
    "Check the unique values in the `Class` column."
   ]
  },
  {
   "cell_type": "code",
   "execution_count": null,
   "metadata": {
    "ExecuteTime": {
     "end_time": "2024-11-27T02:28:18.378438Z",
     "start_time": "2024-11-27T02:28:18.373875Z"
    },
    "colab": {
     "base_uri": "https://localhost:8080/"
    },
    "executionInfo": {
     "elapsed": 10,
     "status": "ok",
     "timestamp": 1732652178520,
     "user": {
      "displayName": "Maxine Beatriz Badiola",
      "userId": "09199181290299414146"
     },
     "user_tz": -480
    },
    "id": "22cNuhKM2U9v",
    "outputId": "10dbc75f-16cd-4ea0-8b72-568bf3eaf0f7"
   },
   "outputs": [],
   "source": [
    "print(\"Class:\", df['Class'].unique())"
   ]
  },
  {
   "cell_type": "markdown",
   "metadata": {
    "id": "52i7Mros8PSU"
   },
   "source": [
    "Replace the corrupted characters to fix the encoding issues."
   ]
  },
  {
   "cell_type": "code",
   "execution_count": null,
   "metadata": {
    "ExecuteTime": {
     "end_time": "2024-11-27T02:28:18.386917Z",
     "start_time": "2024-11-27T02:28:18.379276Z"
    },
    "colab": {
     "base_uri": "https://localhost:8080/"
    },
    "executionInfo": {
     "elapsed": 9,
     "status": "ok",
     "timestamp": 1732652178520,
     "user": {
      "displayName": "Maxine Beatriz Badiola",
      "userId": "09199181290299414146"
     },
     "user_tz": -480
    },
    "id": "Sc8ZsGlR2ZIZ",
    "outputId": "cabe4c73-dd16-4c90-bf09-420fc2c013e6"
   },
   "outputs": [],
   "source": [
    "df['Class'] = df['Class'].str.replace('\\x82er\\x8develik', 'Cercevelik', regex=False)\n",
    "df['Class'] = df['Class'].str.replace('\\x86rg\\x9fp Sivrisi', 'Urgup Sivrisi', regex=False)\n",
    "print(\"Fixed unique values in 'Class':\", df['Class'].unique())\n"
   ]
  },
  {
   "cell_type": "markdown",
   "metadata": {
    "id": "AgnRQx6LY7UC"
   },
   "source": [
    "The models we are using are **Decision Trees**, **Logistic Regression**, and **KNN**. These models require numerical inputs therefore we need to encode the `Class` column to numerical values. Since the `Class` column is binary,  **label encoding (0,1)** is sufficient for this project."
   ]
  },
  {
   "cell_type": "code",
   "execution_count": null,
   "metadata": {
    "ExecuteTime": {
     "end_time": "2024-11-27T02:28:18.395129Z",
     "start_time": "2024-11-27T02:28:18.388063Z"
    },
    "colab": {
     "base_uri": "https://localhost:8080/"
    },
    "executionInfo": {
     "elapsed": 2588,
     "status": "ok",
     "timestamp": 1732652181100,
     "user": {
      "displayName": "Maxine Beatriz Badiola",
      "userId": "09199181290299414146"
     },
     "user_tz": -480
    },
    "id": "l3WAXdjSZ92j",
    "outputId": "5bd37b7b-7473-4a24-ed6f-78c163de8d7e"
   },
   "outputs": [],
   "source": [
    "from sklearn.preprocessing import LabelEncoder\n",
    "\n",
    "encoder = LabelEncoder()\n",
    "df['Class'] = encoder.fit_transform(df['Class'])\n",
    "\n",
    "print(df['Class'].unique())  # Output: [0, 1]\n"
   ]
  },
  {
   "cell_type": "markdown",
   "metadata": {
    "id": "wLYkp4r399Jr"
   },
   "source": [
    "## B. Check and Handle Outliers"
   ]
  },
  {
   "cell_type": "code",
   "execution_count": null,
   "metadata": {
    "ExecuteTime": {
     "end_time": "2024-11-27T02:28:18.421889Z",
     "start_time": "2024-11-27T02:28:18.397201Z"
    },
    "colab": {
     "base_uri": "https://localhost:8080/"
    },
    "executionInfo": {
     "elapsed": 11,
     "status": "ok",
     "timestamp": 1732652181100,
     "user": {
      "displayName": "Maxine Beatriz Badiola",
      "userId": "09199181290299414146"
     },
     "user_tz": -480
    },
    "id": "-aZDd3rM-L9t",
    "outputId": "ead3968b-6880-4b7a-fc7c-38e08f31a1b6"
   },
   "outputs": [],
   "source": [
    "from scipy.stats import zscore\n",
    "numerical_cols = df.select_dtypes(include=['float64', 'int64']).columns\n",
    "\n",
    "# Calculate Z-scores for each numerical column\n",
    "z_scores = df[numerical_cols].apply(zscore)\n",
    "\n",
    "# Identify outliers (absolute Z-score > 3)\n",
    "outliers = (z_scores.abs() > 3).sum()\n",
    "print(\"Number of outliers in each column:\")\n",
    "print(outliers)\n"
   ]
  },
  {
   "cell_type": "markdown",
   "metadata": {
    "id": "Wlw6-q8Ji3wo"
   },
   "source": [
    "Visually see the outliers."
   ]
  },
  {
   "cell_type": "code",
   "execution_count": null,
   "metadata": {
    "ExecuteTime": {
     "end_time": "2024-11-27T02:28:19.580315Z",
     "start_time": "2024-11-27T02:28:18.425206Z"
    },
    "colab": {
     "base_uri": "https://localhost:8080/",
     "height": 263
    },
    "executionInfo": {
     "elapsed": 3314,
     "status": "ok",
     "timestamp": 1732652184406,
     "user": {
      "displayName": "Maxine Beatriz Badiola",
      "userId": "09199181290299414146"
     },
     "user_tz": -480
    },
    "id": "BLS5-9rH5X96",
    "outputId": "65d8c3c3-2844-42ef-8851-323d81931029"
   },
   "outputs": [],
   "source": [
    "import matplotlib.pyplot as plt\n",
    "\n",
    "for col in numerical_cols:\n",
    "    plt.figure(figsize=(8, 4))\n",
    "    plt.boxplot(df[col], vert=False, patch_artist=True)\n",
    "    plt.title(f\"Boxplot for {col}\")\n",
    "    plt.xlabel(col)\n",
    "    plt.show()"
   ]
  },
  {
   "cell_type": "markdown",
   "metadata": {
    "id": "BiOj0-0gjBMh"
   },
   "source": [
    "Keep outliers because <explanation\\>."
   ]
  },
  {
   "cell_type": "markdown",
   "metadata": {
    "id": "9OnkuC-Gi-Y5"
   },
   "source": [
    "## C. Data Preprocessing"
   ]
  },
  {
   "cell_type": "markdown",
   "metadata": {},
   "source": [
    "Make a copy of the dataset for each model as they will be preprocessed differently according to the following:\n",
    "KNN - Normalization\n",
    "Logistic Regression - Standardization\n",
    "Decision Trees - Keep it as is"
   ]
  },
  {
   "cell_type": "code",
   "execution_count": null,
   "metadata": {},
   "outputs": [],
   "source": [
    "# Logistic Regression dataset\n",
    "df_logistic = df.copy()\n",
    "\n",
    "# KNN dataset\n",
    "df_knn = df.copy()\n",
    "\n",
    "# Decision Trees dataset\n",
    "df_tree = df.copy()"
   ]
  },
  {
   "cell_type": "markdown",
   "metadata": {},
   "source": [
    "### Normalization for KNN model."
   ]
  },
  {
   "cell_type": "markdown",
   "metadata": {
    "id": "ITP1J4vKaN0E"
   },
   "source": [
    "Check data before normalization."
   ]
  },
  {
   "cell_type": "code",
   "execution_count": null,
   "metadata": {
    "ExecuteTime": {
     "end_time": "2024-11-27T02:28:19.602181Z",
     "start_time": "2024-11-27T02:28:19.581827Z"
    },
    "colab": {
     "base_uri": "https://localhost:8080/"
    },
    "executionInfo": {
     "elapsed": 4,
     "status": "ok",
     "timestamp": 1732652184407,
     "user": {
      "displayName": "Maxine Beatriz Badiola",
      "userId": "09199181290299414146"
     },
     "user_tz": -480
    },
    "id": "S5nXxZSGaNHI",
    "outputId": "077f70ce-f79e-4fd5-a34c-2c1f8308b2b1"
   },
   "outputs": [],
   "source": [
    "print(df_knn.describe())"
   ]
  },
  {
   "cell_type": "markdown",
   "metadata": {
    "id": "ojyBZkPoaZ8l"
   },
   "source": [
    "Normalize data using MinMax Scale"
   ]
  },
  {
   "cell_type": "code",
   "execution_count": null,
   "metadata": {
    "ExecuteTime": {
     "end_time": "2024-11-27T02:28:19.625228Z",
     "start_time": "2024-11-27T02:28:19.603200Z"
    },
    "colab": {
     "base_uri": "https://localhost:8080/"
    },
    "executionInfo": {
     "elapsed": 461,
     "status": "ok",
     "timestamp": 1732652184865,
     "user": {
      "displayName": "Maxine Beatriz Badiola",
      "userId": "09199181290299414146"
     },
     "user_tz": -480
    },
    "id": "tnOe-EBEIekT",
    "outputId": "2e4be9d2-2b22-4b02-cd6c-2371918713b5"
   },
   "outputs": [],
   "source": [
    "from sklearn.preprocessing import MinMaxScaler\n",
    "\n",
    "scaler_knn = MinMaxScaler()\n",
    "df_knn[numerical_cols] = scaler_knn.fit_transform(df_knn[numerical_cols])\n",
    "\n",
    "# Check the normalized data\n",
    "print(df_knn.describe())\n"
   ]
  },
  {
   "cell_type": "markdown",
   "metadata": {
    "id": "ZQmq-byNaiSp"
   },
   "source": [
    "Check normalized dataset."
   ]
  },
  {
   "cell_type": "code",
   "execution_count": null,
   "metadata": {
    "ExecuteTime": {
     "end_time": "2024-11-27T02:28:19.655776Z",
     "start_time": "2024-11-27T02:28:19.641955Z"
    },
    "colab": {
     "base_uri": "https://localhost:8080/",
     "height": 444
    },
    "executionInfo": {
     "elapsed": 8,
     "status": "ok",
     "timestamp": 1732652184866,
     "user": {
      "displayName": "Maxine Beatriz Badiola",
      "userId": "09199181290299414146"
     },
     "user_tz": -480
    },
    "id": "C7wbKmcTaoq6",
    "outputId": "2fb5a4f7-b41c-46f5-ab39-8cabc110d00a"
   },
   "outputs": [],
   "source": [
    "display(df_knn)"
   ]
  },
  {
   "cell_type": "markdown",
   "metadata": {},
   "source": [
    "### Standardization for Logistic Regression"
   ]
  },
  {
   "cell_type": "markdown",
   "metadata": {},
   "source": [
    "Check Data Before Standardization."
   ]
  },
  {
   "cell_type": "code",
   "execution_count": null,
   "metadata": {},
   "outputs": [],
   "source": [
    "print(df_logistic.describe())"
   ]
  },
  {
   "cell_type": "markdown",
   "metadata": {},
   "source": [
    "Standardize Data Using StandardScaler"
   ]
  },
  {
   "cell_type": "code",
   "execution_count": null,
   "metadata": {},
   "outputs": [],
   "source": [
    "from sklearn.preprocessing import StandardScaler\n",
    "\n",
    "X_logistic = df_logistic.drop('Class', axis=1)  # Features\n",
    "y_logistic = df_logistic['Class']  # Target\n",
    "\n",
    "scaler_logistic = StandardScaler()\n",
    "\n",
    "X_logistic_standardized = scaler_logistic.fit_transform(X_logistic)\n",
    "\n",
    "X_logistic_standardized = pd.DataFrame(X_logistic_standardized, columns=X_logistic.columns)\n",
    "\n",
    "df_logistic = X_logistic_standardized.copy()\n",
    "df_logistic['Class'] = y_logistic\n",
    "\n",
    "print(df_logistic.describe())"
   ]
  },
  {
   "cell_type": "markdown",
   "metadata": {},
   "source": [
    "Check standardized dataset."
   ]
  },
  {
   "cell_type": "code",
   "execution_count": null,
   "metadata": {},
   "outputs": [],
   "source": [
    "display(df_logistic)"
   ]
  },
  {
   "cell_type": "markdown",
   "metadata": {},
   "source": [
    "The Decision Tree model does not require scaled data and can work directly with the original cleaned dataset. Therefore, the final datasets to be used for each model are as follows: `df_knn` for KNN, `df_logistic` for Logistic Regression, and `df_trees` for Decision Trees."
   ]
  },
  {
   "cell_type": "markdown",
   "metadata": {
    "id": "AF6spbYlbEoN"
   },
   "source": [
    "# V. Exploratory data analysis"
   ]
  },
  {
   "cell_type": "markdown",
   "metadata": {
    "id": "Iq0DV2l3fP_U"
   },
   "source": [
    "Display dataset information."
   ]
  },
  {
   "cell_type": "code",
   "execution_count": null,
   "metadata": {
    "ExecuteTime": {
     "end_time": "2024-11-27T02:28:19.692164Z",
     "start_time": "2024-11-27T02:28:19.656964Z"
    },
    "colab": {
     "base_uri": "https://localhost:8080/",
     "height": 1000
    },
    "executionInfo": {
     "elapsed": 582,
     "status": "ok",
     "timestamp": 1732652185441,
     "user": {
      "displayName": "Maxine Beatriz Badiola",
      "userId": "09199181290299414146"
     },
     "user_tz": -480
    },
    "id": "KgGIdf7Zcim1",
    "outputId": "55ef9172-5893-4108-ad05-dbc3b29da313"
   },
   "outputs": [],
   "source": [
    "display(df.head())\n",
    "print(df.info())\n",
    "print(df.describe())"
   ]
  },
  {
   "cell_type": "markdown",
   "metadata": {
    "id": "s8FQ82ASfS47"
   },
   "source": [
    "Analyze the `Class` Variable"
   ]
  },
  {
   "cell_type": "code",
   "execution_count": null,
   "metadata": {
    "ExecuteTime": {
     "end_time": "2024-11-27T02:28:19.726626Z",
     "start_time": "2024-11-27T02:28:19.693845Z"
    },
    "colab": {
     "base_uri": "https://localhost:8080/",
     "height": 124
    },
    "executionInfo": {
     "elapsed": 2738,
     "status": "ok",
     "timestamp": 1732652188177,
     "user": {
      "displayName": "Maxine Beatriz Badiola",
      "userId": "09199181290299414146"
     },
     "user_tz": -480
    },
    "id": "_hVny9NNcvTB",
    "outputId": "9d44699a-572d-4e68-a2a3-ef0218d6f2c5"
   },
   "outputs": [],
   "source": [
    "print(df['Class'].value_counts())\n",
    "\n",
    "import seaborn as sns\n",
    "import matplotlib.pyplot as plt\n",
    "\n",
    "sns.countplot(data=df, x='Class')\n",
    "plt.title(\"Distribution of Target Variable (Class)\")\n",
    "plt.xlabel(\"Class (0 = Cercevelik, 1 = Urgup Sivrisi)\")\n",
    "plt.ylabel(\"Count\")\n",
    "plt.show()\n"
   ]
  },
  {
   "cell_type": "markdown",
   "metadata": {
    "id": "u2vCa6fMfZw6"
   },
   "source": [
    "Visualize the distribution of numerical features."
   ]
  },
  {
   "cell_type": "code",
   "execution_count": null,
   "metadata": {
    "colab": {
     "base_uri": "https://localhost:8080/",
     "height": 54
    },
    "executionInfo": {
     "elapsed": 5443,
     "status": "ok",
     "timestamp": 1732652193617,
     "user": {
      "displayName": "Maxine Beatriz Badiola",
      "userId": "09199181290299414146"
     },
     "user_tz": -480
    },
    "id": "vxNbQDkec9D8",
    "outputId": "ce3984ea-5b21-4e37-9f35-1da7076be502"
   },
   "outputs": [],
   "source": [
    "# Plot histograms for all numerical features\n",
    "df.loc[:, df.columns != 'Class'].hist(bins=20, figsize=(20, 15), edgecolor='black')\n",
    "plt.suptitle(\"Feature Distributions (Excluding Class)\", fontsize=20)\n",
    "plt.show()"
   ]
  },
  {
   "cell_type": "markdown",
   "metadata": {
    "id": "GzZvkmv5fd_D"
   },
   "source": [
    "Check correlation between pictures."
   ]
  },
  {
   "cell_type": "code",
   "execution_count": null,
   "metadata": {
    "colab": {
     "base_uri": "https://localhost:8080/",
     "height": 54
    },
    "executionInfo": {
     "elapsed": 6,
     "status": "ok",
     "timestamp": 1732652193617,
     "user": {
      "displayName": "Maxine Beatriz Badiola",
      "userId": "09199181290299414146"
     },
     "user_tz": -480
    },
    "id": "zUbuAJQNdJRg",
    "outputId": "b66fc03a-8356-4b7d-8c19-2a4845d995e9"
   },
   "outputs": [],
   "source": [
    "# correlation matrix\n",
    "corr_matrix = df.corr()\n",
    "\n",
    "#heatmap\n",
    "plt.figure(figsize=(12, 8))\n",
    "sns.heatmap(corr_matrix, annot=True, cmap='coolwarm', fmt='.2f')\n",
    "plt.title(\"Correlation Heatmap\")\n",
    "plt.show()\n"
   ]
  },
  {
   "cell_type": "markdown",
   "metadata": {
    "id": "4H9-TNa-fklL"
   },
   "source": [
    "Visualize the relationship between features and the `Class` variable."
   ]
  },
  {
   "cell_type": "code",
   "execution_count": null,
   "metadata": {
    "colab": {
     "base_uri": "https://localhost:8080/",
     "height": 245
    },
    "executionInfo": {
     "elapsed": 2943,
     "status": "ok",
     "timestamp": 1732652196556,
     "user": {
      "displayName": "Maxine Beatriz Badiola",
      "userId": "09199181290299414146"
     },
     "user_tz": -480
    },
    "id": "Vlj1gLWkdRTZ",
    "outputId": "c179943b-0345-45e9-ee22-f8f4c02e6804"
   },
   "outputs": [],
   "source": [
    "# Boxplots for numerical features grouped by 'Class'\n",
    "for col in df.columns[:-1]:  # Exclude 'Class'\n",
    "    plt.figure(figsize=(8, 4))\n",
    "    sns.boxplot(x='Class', y=col, data=df)\n",
    "    plt.title(f\"{col} by Class\")\n",
    "    plt.xlabel(\"Class (0 = Cercevelik, 1 = Urgup Sivrisi)\")\n",
    "    plt.ylabel(col)\n",
    "    plt.show()\n"
   ]
  },
  {
   "cell_type": "code",
   "execution_count": null,
   "metadata": {
    "colab": {
     "background_save": true
    },
    "id": "N_JIVudNfAik"
   },
   "outputs": [],
   "source": [
    "# pairwise relationships\n",
    "sns.pairplot(df, hue='Class', diag_kind='kde', corner=True)\n",
    "plt.suptitle(\"Pairplot of Features by Class\", y=1.02)\n",
    "plt.show()\n"
   ]
  },
  {
   "cell_type": "markdown",
   "metadata": {
    "id": "8npj5BOVbW3n"
   },
   "source": [
    "# K-Nearest Neighbors"
   ]
  },
  {
   "cell_type": "code",
   "outputs": [],
   "source": [
    "from sklearn.model_selection import train_test_split\n",
    "import numpy as np\n",
    "from sklearn.ensemble import RandomForestClassifier"
   ],
   "metadata": {
    "collapsed": false,
    "ExecuteTime": {
     "end_time": "2024-11-27T05:03:19.687466Z",
     "start_time": "2024-11-27T05:03:19.678732Z"
    }
   },
   "execution_count": 206
  },
  {
   "cell_type": "code",
   "outputs": [],
   "source": [
    "X_knn = df.drop('Class', axis=1)\n",
    "y_knn = df['Class']"
   ],
   "metadata": {
    "collapsed": false,
    "ExecuteTime": {
     "end_time": "2024-11-27T05:03:21.183696Z",
     "start_time": "2024-11-27T05:03:21.174760Z"
    }
   },
   "execution_count": 207
  },
  {
   "cell_type": "markdown",
   "source": [
    "Train test split"
   ],
   "metadata": {
    "collapsed": false
   }
  },
  {
   "cell_type": "code",
   "outputs": [],
   "source": [
    "X_train, X_test, y_train, y_test = train_test_split(X_knn, y_knn, test_size=0.2, random_state=42)"
   ],
   "metadata": {
    "collapsed": false,
    "ExecuteTime": {
     "end_time": "2024-11-27T05:03:25.343571Z",
     "start_time": "2024-11-27T05:03:25.331660Z"
    }
   },
   "execution_count": 208
  },
  {
   "cell_type": "markdown",
   "source": [
    "Feature selection"
   ],
   "metadata": {
    "collapsed": false
   }
  },
  {
   "cell_type": "code",
   "outputs": [
    {
     "name": "stdout",
     "output_type": "stream",
     "text": [
      "Feature ranking:\n",
      "1. Feature: Aspect_Ration (Importance: 0.2019)\n",
      "2. Feature: Compactness (Importance: 0.1671)\n",
      "3. Feature: Eccentricity (Importance: 0.1522)\n",
      "4. Feature: Roundness (Importance: 0.1441)\n",
      "5. Feature: Major_Axis_Length (Importance: 0.0788)\n",
      "6. Feature: Solidity (Importance: 0.0466)\n",
      "7. Feature: Minor_Axis_Length (Importance: 0.0425)\n",
      "8. Feature: Extent (Importance: 0.0389)\n",
      "9. Feature: Perimeter (Importance: 0.0373)\n",
      "10. Feature: Equiv_Diameter (Importance: 0.0314)\n",
      "11. Feature: Area (Importance: 0.0313)\n",
      "12. Feature: Convex_Area (Importance: 0.0280)\n"
     ]
    }
   ],
   "source": [
    "rf = RandomForestClassifier(random_state=42)  \n",
    "rf.fit(X_train, y_train)\n",
    "\n",
    "# Get feature importance\n",
    "threshold = 0.05\n",
    "importance = rf.feature_importances_\n",
    "important_features = X_train.columns[importance > threshold]\n",
    "\n",
    "# Check the feature ranking\n",
    "indices = np.argsort(importance)[::-1]\n",
    "print(\"Feature ranking:\")\n",
    "for rank, idx in enumerate(indices, start=1):\n",
    "    print(f\"{rank}. Feature: {X_train.columns[idx]} (Importance: {importance[idx]:.4f})\")"
   ],
   "metadata": {
    "collapsed": false,
    "ExecuteTime": {
     "end_time": "2024-11-27T05:03:27.190890Z",
     "start_time": "2024-11-27T05:03:26.626070Z"
    }
   },
   "execution_count": 209
  },
  {
   "cell_type": "markdown",
   "source": [
    "Retain only features above the threshold"
   ],
   "metadata": {
    "collapsed": false
   }
  },
  {
   "cell_type": "code",
   "outputs": [
    {
     "name": "stdout",
     "output_type": "stream",
     "text": [
      "Index(['Major_Axis_Length', 'Eccentricity', 'Roundness', 'Aspect_Ration',\n",
      "       'Compactness'],\n",
      "      dtype='object')\n"
     ]
    }
   ],
   "source": [
    "print(important_features)\n",
    "X_train = X_train[important_features]\n",
    "X_test = X_test[important_features]"
   ],
   "metadata": {
    "collapsed": false,
    "ExecuteTime": {
     "end_time": "2024-11-27T05:03:30.628048Z",
     "start_time": "2024-11-27T05:03:30.618698Z"
    }
   },
   "execution_count": 210
  },
  {
   "cell_type": "markdown",
   "metadata": {
    "id": "y5d-1DDGbhkf"
   },
   "source": [
    "## A. Initial model training"
   ]
  },
  {
   "cell_type": "markdown",
   "metadata": {
    "id": "EJ_6jhpmbspn"
   },
   "source": [
    "## B. Error analysis"
   ]
  },
  {
   "cell_type": "markdown",
   "metadata": {
    "collapsed": false
   },
   "source": [
    "## C. Improving model performance"
   ]
  },
  {
   "cell_type": "markdown",
   "metadata": {
    "collapsed": false
   },
   "source": [
    "## D. Model performance summary"
   ]
  },
  {
   "cell_type": "markdown",
   "metadata": {
    "id": "9IbRjA2BGNHJ"
   },
   "source": []
  },
  {
   "cell_type": "markdown",
   "metadata": {
    "id": "-zRUxCiWb5Nh"
   },
   "source": [
    "# Logistic Regression"
   ]
  },
  {
   "cell_type": "markdown",
   "metadata": {
    "id": "9r5mfhoucMVT"
   },
   "source": [
    "## A. Initial model training"
   ]
  },
  {
   "cell_type": "markdown",
   "metadata": {
    "id": "vR9e7B1IcSu4"
   },
   "source": [
    "## B. Error analysis"
   ]
  },
  {
   "cell_type": "markdown",
   "metadata": {
    "id": "ExTf7VeVcVJd"
   },
   "source": [
    "## C. Improving model performance"
   ]
  },
  {
   "cell_type": "markdown",
   "metadata": {
    "collapsed": false
   },
   "source": [
    "## D. Model performance summary"
   ]
  },
  {
   "cell_type": "markdown",
   "metadata": {},
   "source": [
    "REFERENCE: [Logistic Regression: Sklearn\\Scikit](https://www.datacamp.com/tutorial/understanding-logistic-regression-python)"
   ]
  },
  {
   "cell_type": "code",
   "execution_count": null,
   "metadata": {},
   "outputs": [],
   "source": [
    "display(df.head())\n",
    "print(df.info())\n",
    "print(df.describe())"
   ]
  },
  {
   "cell_type": "code",
   "execution_count": null,
   "metadata": {},
   "outputs": [],
   "source": [
    "##import logistic regression libraries\n",
    "from sklearn.model_selection import train_test_split\n",
    "from sklearn.preprocessing import StandardScaler #not used for now\n",
    "from sklearn.linear_model import LogisticRegression\n",
    "from sklearn.metrics import accuracy_score, confusion_matrix, classification_report"
   ]
  },
  {
   "cell_type": "code",
   "execution_count": null,
   "metadata": {},
   "outputs": [],
   "source": [
    "#logistic regression table copy\n",
    "df_logistic = df.copy()\n",
    "X_logistic = df_logistic.drop('Class', axis=1)  #features\n",
    "y_logistic = df_logistic['Class']  #target\n",
    "\n",
    "#training set = 70%, test set = 30%\n",
    "X_train_logistic, X_test_logistic, y_train_logistic, y_test_logistic = train_test_split(\n",
    "    X_logistic, y_logistic, test_size=0.3, random_state=1\n",
    ")\n",
    "\n",
    "model_logistic = LogisticRegression()\n",
    "model_logistic.fit(X_train_logistic, y_train_logistic)\n",
    "y_pred_logistic = model_logistic.predict(X_test_logistic)"
   ]
  },
  {
   "cell_type": "code",
   "execution_count": null,
   "metadata": {},
   "outputs": [],
   "source": [
    "#summarize results"
   ]
  },
  {
   "cell_type": "markdown",
   "metadata": {
    "id": "hVKyHzdNcZcB"
   },
   "source": [
    "# Decision Trees"
   ]
  },
  {
   "cell_type": "markdown",
   "metadata": {
    "id": "jjDyzwT_ch3c"
   },
   "source": [
    "## A. Initial model training"
   ]
  },
  {
   "cell_type": "markdown",
   "metadata": {
    "id": "YNvgMg2vcj7Z"
   },
   "source": [
    "## B. Error analysis"
   ]
  },
  {
   "cell_type": "markdown",
   "metadata": {
    "id": "2SS0VKsIcqZd"
   },
   "source": [
    "## C. Improving model performance"
   ]
  },
  {
   "cell_type": "markdown",
   "metadata": {
    "collapsed": false
   },
   "source": [
    "## D. Model performance summary"
   ]
  },
  {
   "cell_type": "markdown",
   "metadata": {
    "id": "xScKnDXYeO_t"
   },
   "source": [
    "# Section 10. Insights and conclusions"
   ]
  },
  {
   "cell_type": "markdown",
   "metadata": {
    "id": "WLHNy8BAeR-p"
   },
   "source": [
    "# Section 11. Reference"
   ]
  }
 ],
 "metadata": {
  "colab": {
   "collapsed_sections": [
    "-zRUxCiWb5Nh",
    "hVKyHzdNcZcB",
    "DqmxAfVmdmPo"
   ],
   "name": "",
   "toc_visible": true,
   "version": ""
  },
  "kernelspec": {
   "display_name": "Python 3",
   "language": "python",
   "name": "python3"
  },
  "language_info": {
   "codemirror_mode": {
    "name": "ipython",
    "version": 3
   },
   "file_extension": ".py",
   "mimetype": "text/x-python",
   "name": "python",
   "nbconvert_exporter": "python",
   "pygments_lexer": "ipython3",
   "version": "3.12.7"
  }
 },
 "nbformat": 4,
 "nbformat_minor": 0
}
