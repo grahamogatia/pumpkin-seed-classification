{
 "cells": [
  {
   "cell_type": "markdown",
   "metadata": {
    "id": "j-PWd3_PDRfj"
   },
   "source": [
    "# **STINTSY Project**\n",
    "**S16 Group <#>**\n",
    "\n",
    "Names:\n",
    "\n",
    "Adrada, Jasper John\n",
    "\n",
    "David, Rain Caitlin Aelis\n",
    "\n",
    "Badiola, Maxine Beatriz\n",
    "\n",
    "Ogatia, Graham Joshua\n",
    "\n"
   ]
  },
  {
   "cell_type": "markdown",
   "metadata": {
    "id": "OxPn2kf0DFQa"
   },
   "source": [
    "# **Load Dataset from Google Drive**"
   ]
  },
  {
   "cell_type": "code",
   "execution_count": 3,
   "metadata": {
    "colab": {
     "base_uri": "https://localhost:8080/",
     "height": 470
    },
    "executionInfo": {
     "elapsed": 18522,
     "status": "ok",
     "timestamp": 1732652178519,
     "user": {
      "displayName": "Maxine Beatriz Badiola",
      "userId": "09199181290299414146"
     },
     "user_tz": -480
    },
    "id": "peUjjXGQ7WOx",
    "outputId": "7802c601-d432-454b-e735-bd092a1a164e",
    "ExecuteTime": {
     "end_time": "2024-11-27T02:21:13.606348Z",
     "start_time": "2024-11-27T02:21:13.578301Z"
    }
   },
   "outputs": [
    {
     "data": {
      "text/plain": "    Area  Perimeter  Major_Axis_Length  Minor_Axis_Length  Convex_Area  \\\n0  56276    888.242           326.1485           220.2388        56831   \n1  76631   1068.146           417.1932           234.2289        77280   \n2  71623   1082.987           435.8328           211.0457        72663   \n3  66458    992.051           381.5638           222.5322        67118   \n4  66107    998.146           383.8883           220.4545        67117   \n5  73191   1041.460           405.8132           231.4261        73969   \n6  73338   1020.055           392.2516           238.5494        73859   \n7  69692   1049.108           421.4875           211.7707        70442   \n8  95727   1231.609           488.1199           251.3086        96831   \n9  73465   1047.767           413.6504           227.2644        74089   \n\n   Equiv_Diameter  Eccentricity  Solidity  Extent  Roundness  Aspect_Ration  \\\n0        267.6805        0.7376    0.9902  0.7453     0.8963         1.4809   \n1        312.3614        0.8275    0.9916  0.7151     0.8440         1.7811   \n2        301.9822        0.8749    0.9857  0.7400     0.7674         2.0651   \n3        290.8899        0.8123    0.9902  0.7396     0.8486         1.7146   \n4        290.1207        0.8187    0.9850  0.6752     0.8338         1.7413   \n5        305.2698        0.8215    0.9895  0.7165     0.8480         1.7535   \n6        305.5762        0.7938    0.9929  0.7187     0.8857         1.6443   \n7        297.8836        0.8646    0.9894  0.6736     0.7957         1.9903   \n8        349.1180        0.8573    0.9886  0.6188     0.7930         1.9423   \n9        305.8407        0.8356    0.9916  0.7443     0.8409         1.8201   \n\n   Compactness       Class  \n0       0.8207  erevelik  \n1       0.7487  erevelik  \n2       0.6929  erevelik  \n3       0.7624  erevelik  \n4       0.7557  erevelik  \n5       0.7522  erevelik  \n6       0.7790  erevelik  \n7       0.7067  erevelik  \n8       0.7152  erevelik  \n9       0.7394  erevelik  ",
      "text/html": "<div>\n<style scoped>\n    .dataframe tbody tr th:only-of-type {\n        vertical-align: middle;\n    }\n\n    .dataframe tbody tr th {\n        vertical-align: top;\n    }\n\n    .dataframe thead th {\n        text-align: right;\n    }\n</style>\n<table border=\"1\" class=\"dataframe\">\n  <thead>\n    <tr style=\"text-align: right;\">\n      <th></th>\n      <th>Area</th>\n      <th>Perimeter</th>\n      <th>Major_Axis_Length</th>\n      <th>Minor_Axis_Length</th>\n      <th>Convex_Area</th>\n      <th>Equiv_Diameter</th>\n      <th>Eccentricity</th>\n      <th>Solidity</th>\n      <th>Extent</th>\n      <th>Roundness</th>\n      <th>Aspect_Ration</th>\n      <th>Compactness</th>\n      <th>Class</th>\n    </tr>\n  </thead>\n  <tbody>\n    <tr>\n      <th>0</th>\n      <td>56276</td>\n      <td>888.242</td>\n      <td>326.1485</td>\n      <td>220.2388</td>\n      <td>56831</td>\n      <td>267.6805</td>\n      <td>0.7376</td>\n      <td>0.9902</td>\n      <td>0.7453</td>\n      <td>0.8963</td>\n      <td>1.4809</td>\n      <td>0.8207</td>\n      <td>erevelik</td>\n    </tr>\n    <tr>\n      <th>1</th>\n      <td>76631</td>\n      <td>1068.146</td>\n      <td>417.1932</td>\n      <td>234.2289</td>\n      <td>77280</td>\n      <td>312.3614</td>\n      <td>0.8275</td>\n      <td>0.9916</td>\n      <td>0.7151</td>\n      <td>0.8440</td>\n      <td>1.7811</td>\n      <td>0.7487</td>\n      <td>erevelik</td>\n    </tr>\n    <tr>\n      <th>2</th>\n      <td>71623</td>\n      <td>1082.987</td>\n      <td>435.8328</td>\n      <td>211.0457</td>\n      <td>72663</td>\n      <td>301.9822</td>\n      <td>0.8749</td>\n      <td>0.9857</td>\n      <td>0.7400</td>\n      <td>0.7674</td>\n      <td>2.0651</td>\n      <td>0.6929</td>\n      <td>erevelik</td>\n    </tr>\n    <tr>\n      <th>3</th>\n      <td>66458</td>\n      <td>992.051</td>\n      <td>381.5638</td>\n      <td>222.5322</td>\n      <td>67118</td>\n      <td>290.8899</td>\n      <td>0.8123</td>\n      <td>0.9902</td>\n      <td>0.7396</td>\n      <td>0.8486</td>\n      <td>1.7146</td>\n      <td>0.7624</td>\n      <td>erevelik</td>\n    </tr>\n    <tr>\n      <th>4</th>\n      <td>66107</td>\n      <td>998.146</td>\n      <td>383.8883</td>\n      <td>220.4545</td>\n      <td>67117</td>\n      <td>290.1207</td>\n      <td>0.8187</td>\n      <td>0.9850</td>\n      <td>0.6752</td>\n      <td>0.8338</td>\n      <td>1.7413</td>\n      <td>0.7557</td>\n      <td>erevelik</td>\n    </tr>\n    <tr>\n      <th>5</th>\n      <td>73191</td>\n      <td>1041.460</td>\n      <td>405.8132</td>\n      <td>231.4261</td>\n      <td>73969</td>\n      <td>305.2698</td>\n      <td>0.8215</td>\n      <td>0.9895</td>\n      <td>0.7165</td>\n      <td>0.8480</td>\n      <td>1.7535</td>\n      <td>0.7522</td>\n      <td>erevelik</td>\n    </tr>\n    <tr>\n      <th>6</th>\n      <td>73338</td>\n      <td>1020.055</td>\n      <td>392.2516</td>\n      <td>238.5494</td>\n      <td>73859</td>\n      <td>305.5762</td>\n      <td>0.7938</td>\n      <td>0.9929</td>\n      <td>0.7187</td>\n      <td>0.8857</td>\n      <td>1.6443</td>\n      <td>0.7790</td>\n      <td>erevelik</td>\n    </tr>\n    <tr>\n      <th>7</th>\n      <td>69692</td>\n      <td>1049.108</td>\n      <td>421.4875</td>\n      <td>211.7707</td>\n      <td>70442</td>\n      <td>297.8836</td>\n      <td>0.8646</td>\n      <td>0.9894</td>\n      <td>0.6736</td>\n      <td>0.7957</td>\n      <td>1.9903</td>\n      <td>0.7067</td>\n      <td>erevelik</td>\n    </tr>\n    <tr>\n      <th>8</th>\n      <td>95727</td>\n      <td>1231.609</td>\n      <td>488.1199</td>\n      <td>251.3086</td>\n      <td>96831</td>\n      <td>349.1180</td>\n      <td>0.8573</td>\n      <td>0.9886</td>\n      <td>0.6188</td>\n      <td>0.7930</td>\n      <td>1.9423</td>\n      <td>0.7152</td>\n      <td>erevelik</td>\n    </tr>\n    <tr>\n      <th>9</th>\n      <td>73465</td>\n      <td>1047.767</td>\n      <td>413.6504</td>\n      <td>227.2644</td>\n      <td>74089</td>\n      <td>305.8407</td>\n      <td>0.8356</td>\n      <td>0.9916</td>\n      <td>0.7443</td>\n      <td>0.8409</td>\n      <td>1.8201</td>\n      <td>0.7394</td>\n      <td>erevelik</td>\n    </tr>\n  </tbody>\n</table>\n</div>"
     },
     "metadata": {},
     "output_type": "display_data"
    }
   ],
   "source": [
    "import pandas as pd\n",
    "file = 'pumpkin_seeds.csv'\n",
    "df = pd.read_csv(file, encoding='latin1')\n",
    "\n",
    "display(df.head(10))"
   ]
  },
  {
   "cell_type": "markdown",
   "metadata": {
    "id": "vjQP2IFGZjjL"
   },
   "source": [
    "# Section 1. Introduction to the problem/task and dataset"
   ]
  },
  {
   "cell_type": "markdown",
   "metadata": {
    "id": "He-1IWC9akbQ"
   },
   "source": [
    "# Section 2. Description of the dataset"
   ]
  },
  {
   "cell_type": "markdown",
   "metadata": {
    "id": "mYXkUxgVa6xu"
   },
   "source": [
    "# Section 3. List of requirements"
   ]
  },
  {
   "cell_type": "markdown",
   "metadata": {
    "id": "WtYp3-9Sa_SA"
   },
   "source": [
    "# Section 4. Data preprocessing and cleaning"
   ]
  },
  {
   "cell_type": "markdown",
   "metadata": {
    "id": "pGdf0Lpv8Z8U"
   },
   "source": [
    "## I. Cleaning the Dataset"
   ]
  },
  {
   "cell_type": "markdown",
   "metadata": {
    "id": "5uIhpErNvUxW"
   },
   "source": [
    "Check for duplicates."
   ]
  },
  {
   "cell_type": "code",
   "execution_count": 4,
   "metadata": {
    "colab": {
     "base_uri": "https://localhost:8080/"
    },
    "executionInfo": {
     "elapsed": 11,
     "status": "ok",
     "timestamp": 1732652178519,
     "user": {
      "displayName": "Maxine Beatriz Badiola",
      "userId": "09199181290299414146"
     },
     "user_tz": -480
    },
    "id": "-iU1XHfPvUQ2",
    "outputId": "a0e957f0-1ff1-4cdf-8c4c-6fbdc109d730",
    "ExecuteTime": {
     "end_time": "2024-11-27T02:21:13.674081Z",
     "start_time": "2024-11-27T02:21:13.650296Z"
    }
   },
   "outputs": [
    {
     "name": "stdout",
     "output_type": "stream",
     "text": [
      "Duplicate rows: 0\n"
     ]
    }
   ],
   "source": [
    "duplicates = df.duplicated().sum()\n",
    "print(f\"Duplicate rows: {duplicates}\")\n"
   ]
  },
  {
   "cell_type": "markdown",
   "metadata": {
    "id": "CRkCS6E37wqD"
   },
   "source": [
    "Check for null values."
   ]
  },
  {
   "cell_type": "code",
   "execution_count": 5,
   "metadata": {
    "colab": {
     "base_uri": "https://localhost:8080/"
    },
    "executionInfo": {
     "elapsed": 11,
     "status": "ok",
     "timestamp": 1732652178520,
     "user": {
      "displayName": "Maxine Beatriz Badiola",
      "userId": "09199181290299414146"
     },
     "user_tz": -480
    },
    "id": "hxnYyGgC26vD",
    "outputId": "ffc4b865-2b41-4cec-be48-6e34f167e4fd",
    "ExecuteTime": {
     "end_time": "2024-11-27T02:21:13.694724Z",
     "start_time": "2024-11-27T02:21:13.680001Z"
    }
   },
   "outputs": [
    {
     "name": "stdout",
     "output_type": "stream",
     "text": [
      "Missing values in each column:\n",
      " Area                 0\n",
      "Perimeter            0\n",
      "Major_Axis_Length    0\n",
      "Minor_Axis_Length    0\n",
      "Convex_Area          0\n",
      "Equiv_Diameter       0\n",
      "Eccentricity         0\n",
      "Solidity             0\n",
      "Extent               0\n",
      "Roundness            0\n",
      "Aspect_Ration        0\n",
      "Compactness          0\n",
      "Class                0\n",
      "dtype: int64\n"
     ]
    }
   ],
   "source": [
    "null_val = df.isnull().sum()\n",
    "print(\"Missing values in each column:\\n\",null_val)"
   ]
  },
  {
   "cell_type": "markdown",
   "metadata": {
    "id": "XE0GZU7675-P"
   },
   "source": [
    "Check the unique values in the `Class` column."
   ]
  },
  {
   "cell_type": "code",
   "execution_count": 6,
   "metadata": {
    "colab": {
     "base_uri": "https://localhost:8080/"
    },
    "executionInfo": {
     "elapsed": 10,
     "status": "ok",
     "timestamp": 1732652178520,
     "user": {
      "displayName": "Maxine Beatriz Badiola",
      "userId": "09199181290299414146"
     },
     "user_tz": -480
    },
    "id": "22cNuhKM2U9v",
    "outputId": "10dbc75f-16cd-4ea0-8b72-568bf3eaf0f7",
    "ExecuteTime": {
     "end_time": "2024-11-27T02:21:13.705957Z",
     "start_time": "2024-11-27T02:21:13.697276Z"
    }
   },
   "outputs": [
    {
     "name": "stdout",
     "output_type": "stream",
     "text": [
      "Class: ['\\x82er\\x8develik' '\\x86rg\\x9fp Sivrisi']\n"
     ]
    }
   ],
   "source": [
    "print(\"Class:\", df['Class'].unique())"
   ]
  },
  {
   "cell_type": "markdown",
   "metadata": {
    "id": "52i7Mros8PSU"
   },
   "source": [
    "Replace the corrupted characters to fix the encoding issues."
   ]
  },
  {
   "cell_type": "code",
   "execution_count": 7,
   "metadata": {
    "colab": {
     "base_uri": "https://localhost:8080/"
    },
    "executionInfo": {
     "elapsed": 9,
     "status": "ok",
     "timestamp": 1732652178520,
     "user": {
      "displayName": "Maxine Beatriz Badiola",
      "userId": "09199181290299414146"
     },
     "user_tz": -480
    },
    "id": "Sc8ZsGlR2ZIZ",
    "outputId": "cabe4c73-dd16-4c90-bf09-420fc2c013e6",
    "ExecuteTime": {
     "end_time": "2024-11-27T02:21:13.725164Z",
     "start_time": "2024-11-27T02:21:13.714914Z"
    }
   },
   "outputs": [
    {
     "name": "stdout",
     "output_type": "stream",
     "text": [
      "Fixed unique values in 'Class': ['Cercevelik' 'Urgup Sivrisi']\n"
     ]
    }
   ],
   "source": [
    "df['Class'] = df['Class'].str.replace('\\x82er\\x8develik', 'Cercevelik', regex=False)\n",
    "df['Class'] = df['Class'].str.replace('\\x86rg\\x9fp Sivrisi', 'Urgup Sivrisi', regex=False)\n",
    "print(\"Fixed unique values in 'Class':\", df['Class'].unique())\n"
   ]
  },
  {
   "cell_type": "markdown",
   "metadata": {
    "id": "AgnRQx6LY7UC"
   },
   "source": [
    "The models we are using are **Decision Trees**, **Logistic Regression**, and <ML3\\>. These models require numerical inputs therefore we need to encode the `Class` column to numerical values. Since the `Class` column is binary,  **label encoding (0,1)** is sufficient for this project."
   ]
  },
  {
   "cell_type": "code",
   "execution_count": 8,
   "metadata": {
    "colab": {
     "base_uri": "https://localhost:8080/"
    },
    "executionInfo": {
     "elapsed": 2588,
     "status": "ok",
     "timestamp": 1732652181100,
     "user": {
      "displayName": "Maxine Beatriz Badiola",
      "userId": "09199181290299414146"
     },
     "user_tz": -480
    },
    "id": "l3WAXdjSZ92j",
    "outputId": "5bd37b7b-7473-4a24-ed6f-78c163de8d7e",
    "ExecuteTime": {
     "end_time": "2024-11-27T02:21:33.802371Z",
     "start_time": "2024-11-27T02:21:13.739160Z"
    }
   },
   "outputs": [
    {
     "name": "stdout",
     "output_type": "stream",
     "text": [
      "[0 1]\n"
     ]
    }
   ],
   "source": [
    "from sklearn.preprocessing import LabelEncoder\n",
    "\n",
    "encoder = LabelEncoder()\n",
    "df['Class'] = encoder.fit_transform(df['Class'])\n",
    "\n",
    "print(df['Class'].unique())  # Output: [0, 1]\n"
   ]
  },
  {
   "cell_type": "markdown",
   "metadata": {
    "id": "wLYkp4r399Jr"
   },
   "source": [
    "## II. Check and Handle Outliers"
   ]
  },
  {
   "cell_type": "code",
   "execution_count": 9,
   "metadata": {
    "colab": {
     "base_uri": "https://localhost:8080/"
    },
    "executionInfo": {
     "elapsed": 11,
     "status": "ok",
     "timestamp": 1732652181100,
     "user": {
      "displayName": "Maxine Beatriz Badiola",
      "userId": "09199181290299414146"
     },
     "user_tz": -480
    },
    "id": "-aZDd3rM-L9t",
    "outputId": "ead3968b-6880-4b7a-fc7c-38e08f31a1b6",
    "ExecuteTime": {
     "end_time": "2024-11-27T02:21:33.834995Z",
     "start_time": "2024-11-27T02:21:33.804791Z"
    }
   },
   "outputs": [
    {
     "name": "stdout",
     "output_type": "stream",
     "text": [
      "Number of outliers in each column:\n",
      "Area                 13\n",
      "Perimeter             8\n",
      "Major_Axis_Length     8\n",
      "Minor_Axis_Length     9\n",
      "Convex_Area          13\n",
      "Equiv_Diameter        9\n",
      "Eccentricity         14\n",
      "Solidity             29\n",
      "Extent               13\n",
      "Roundness             4\n",
      "Aspect_Ration         8\n",
      "Compactness           2\n",
      "Class                 0\n",
      "dtype: int64\n"
     ]
    }
   ],
   "source": [
    "from scipy.stats import zscore\n",
    "numerical_cols = df.select_dtypes(include=['float64', 'int64']).columns\n",
    "\n",
    "# Calculate Z-scores for each numerical column\n",
    "z_scores = df[numerical_cols].apply(zscore)\n",
    "\n",
    "# Identify outliers (absolute Z-score > 3)\n",
    "outliers = (z_scores.abs() > 3).sum()\n",
    "print(\"Number of outliers in each column:\")\n",
    "print(outliers)\n"
   ]
  },
  {
   "cell_type": "markdown",
   "metadata": {
    "id": "Wlw6-q8Ji3wo"
   },
   "source": [
    "Visually see the outliers."
   ]
  },
  {
   "cell_type": "code",
   "execution_count": 10,
   "metadata": {
    "colab": {
     "base_uri": "https://localhost:8080/",
     "height": 263
    },
    "executionInfo": {
     "elapsed": 3314,
     "status": "ok",
     "timestamp": 1732652184406,
     "user": {
      "displayName": "Maxine Beatriz Badiola",
      "userId": "09199181290299414146"
     },
     "user_tz": -480
    },
    "id": "BLS5-9rH5X96",
    "outputId": "65d8c3c3-2844-42ef-8851-323d81931029",
    "ExecuteTime": {
     "end_time": "2024-11-27T02:21:39.008258Z",
     "start_time": "2024-11-27T02:21:33.836390Z"
    }
   },
   "outputs": [
    {
     "data": {
      "text/plain": "<Figure size 800x400 with 1 Axes>",
      "image/png": "[encoded data removed]"
     },
     "metadata": {},
     "output_type": "display_data"
    },
    {
     "data": {
      "text/plain": "<Figure size 800x400 with 1 Axes>",
      "image/png": "[encoded data removed]"
     },
     "metadata": {},
     "output_type": "display_data"
    },
    {
     "data": {
      "text/plain": "<Figure size 800x400 with 1 Axes>",
      "image/png": "[encoded data removed]"
     },
     "metadata": {},
     "output_type": "display_data"
    },
    {
     "data": {
      "text/plain": "<Figure size 800x400 with 1 Axes>",
      "image/png": "[encoded data removed]"
     },
     "metadata": {},
     "output_type": "display_data"
    },
    {
     "data": {
      "text/plain": "<Figure size 800x400 with 1 Axes>",
      "image/png": "[encoded data removed]"
     },
     "metadata": {},
     "output_type": "display_data"
    },
    {
     "data": {
      "text/plain": "<Figure size 800x400 with 1 Axes>",
      "image/png": "[encoded data removed]"
     },
     "metadata": {},
     "output_type": "display_data"
    },
    {
     "data": {
      "text/plain": "<Figure size 800x400 with 1 Axes>",
      "image/png": "[encoded data removed]"
     },
     "metadata": {},
     "output_type": "display_data"
    },
    {
     "data": {
      "text/plain": "<Figure size 800x400 with 1 Axes>",
      "image/png": "[encoded data removed]"
     },
     "metadata": {},
     "output_type": "display_data"
    },
    {
     "data": {
      "text/plain": "<Figure size 800x400 with 1 Axes>",
      "image/png": "[encoded data removed]"
     },
     "metadata": {},
     "output_type": "display_data"
    },
    {
     "data": {
      "text/plain": "<Figure size 800x400 with 1 Axes>",
      "image/png": "[encoded data removed]"
     },
     "metadata": {},
     "output_type": "display_data"
    },
    {
     "data": {
      "text/plain": "<Figure size 800x400 with 1 Axes>",
      "image/png": "[encoded data removed]"
     },
     "metadata": {},
     "output_type": "display_data"
    },
    {
     "data": {
      "text/plain": "<Figure size 800x400 with 1 Axes>",
      "image/png": "[encoded data removed]"
     },
     "metadata": {},
     "output_type": "display_data"
    },
    {
     "data": {
      "text/plain": "<Figure size 800x400 with 1 Axes>",
      "image/png": "[encoded data removed]"
     },
     "metadata": {},
     "output_type": "display_data"
    }
   ],
   "source": [
    "import matplotlib.pyplot as plt\n",
    "\n",
    "for col in numerical_cols:\n",
    "    plt.figure(figsize=(8, 4))\n",
    "    plt.boxplot(df[col], vert=False, patch_artist=True)\n",
    "    plt.title(f\"Boxplot for {col}\")\n",
    "    plt.xlabel(col)\n",
    "    plt.show()"
   ]
  },
  {
   "cell_type": "markdown",
   "metadata": {
    "id": "BiOj0-0gjBMh"
   },
   "source": [
    "Keep outliers because <explanation\\>."
   ]
  },
  {
   "cell_type": "markdown",
   "metadata": {
    "id": "9OnkuC-Gi-Y5"
   },
   "source": [
    "## III. Normalize the Dataset"
   ]
  },
  {
   "cell_type": "markdown",
   "metadata": {
    "id": "ITP1J4vKaN0E"
   },
   "source": [
    "Check data before normalization."
   ]
  },
  {
   "cell_type": "code",
   "execution_count": 11,
   "metadata": {
    "colab": {
     "base_uri": "https://localhost:8080/"
    },
    "executionInfo": {
     "elapsed": 4,
     "status": "ok",
     "timestamp": 1732652184407,
     "user": {
      "displayName": "Maxine Beatriz Badiola",
      "userId": "09199181290299414146"
     },
     "user_tz": -480
    },
    "id": "S5nXxZSGaNHI",
    "outputId": "077f70ce-f79e-4fd5-a34c-2c1f8308b2b1",
    "ExecuteTime": {
     "end_time": "2024-11-27T02:21:39.056569Z",
     "start_time": "2024-11-27T02:21:39.014704Z"
    }
   },
   "outputs": [
    {
     "name": "stdout",
     "output_type": "stream",
     "text": [
      "                Area    Perimeter  Major_Axis_Length  Minor_Axis_Length  \\\n",
      "count    2500.000000  2500.000000        2500.000000        2500.000000   \n",
      "mean    80658.220800  1130.279015         456.601840         225.794921   \n",
      "std     13664.510228   109.256418          56.235704          23.297245   \n",
      "min     47939.000000   868.485000         320.844600         152.171800   \n",
      "25%     70765.000000  1048.829750         414.957850         211.245925   \n",
      "50%     79076.000000  1123.672000         449.496600         224.703100   \n",
      "75%     89757.500000  1203.340500         492.737650         240.672875   \n",
      "max    136574.000000  1559.450000         661.911300         305.818000   \n",
      "\n",
      "         Convex_Area  Equiv_Diameter  Eccentricity     Solidity       Extent  \\\n",
      "count    2500.000000     2500.000000   2500.000000  2500.000000  2500.000000   \n",
      "mean    81508.084400      319.334230      0.860879     0.989492     0.693205   \n",
      "std     13764.092788       26.891920      0.045167     0.003494     0.060914   \n",
      "min     48366.000000      247.058400      0.492100     0.918600     0.468000   \n",
      "25%     71512.000000      300.167975      0.831700     0.988300     0.658900   \n",
      "50%     79872.000000      317.305350      0.863700     0.990300     0.713050   \n",
      "75%     90797.750000      338.057375      0.897025     0.991500     0.740225   \n",
      "max    138384.000000      417.002900      0.948100     0.994400     0.829600   \n",
      "\n",
      "         Roundness  Aspect_Ration  Compactness      Class  \n",
      "count  2500.000000    2500.000000  2500.000000  2500.0000  \n",
      "mean      0.791533       2.041702     0.704121     0.4800  \n",
      "std       0.055924       0.315997     0.053067     0.4997  \n",
      "min       0.554600       1.148700     0.560800     0.0000  \n",
      "25%       0.751900       1.801050     0.663475     0.0000  \n",
      "50%       0.797750       1.984200     0.707700     0.0000  \n",
      "75%       0.834325       2.262075     0.743500     1.0000  \n",
      "max       0.939600       3.144400     0.904900     1.0000  \n"
     ]
    }
   ],
   "source": [
    "print(df.describe())"
   ]
  },
  {
   "cell_type": "markdown",
   "metadata": {
    "id": "ojyBZkPoaZ8l"
   },
   "source": [
    "Normalize data using MinMax Scale"
   ]
  },
  {
   "cell_type": "code",
   "execution_count": 12,
   "metadata": {
    "colab": {
     "base_uri": "https://localhost:8080/"
    },
    "executionInfo": {
     "elapsed": 461,
     "status": "ok",
     "timestamp": 1732652184865,
     "user": {
      "displayName": "Maxine Beatriz Badiola",
      "userId": "09199181290299414146"
     },
     "user_tz": -480
    },
    "id": "tnOe-EBEIekT",
    "outputId": "2e4be9d2-2b22-4b02-cd6c-2371918713b5",
    "ExecuteTime": {
     "end_time": "2024-11-27T02:21:39.102201Z",
     "start_time": "2024-11-27T02:21:39.059838Z"
    }
   },
   "outputs": [
    {
     "name": "stdout",
     "output_type": "stream",
     "text": [
      "              Area    Perimeter  Major_Axis_Length  Minor_Axis_Length  \\\n",
      "count  2500.000000  2500.000000        2500.000000        2500.000000   \n",
      "mean      0.369146     0.378882           0.398037           0.479173   \n",
      "std       0.154166     0.158121           0.164882           0.151629   \n",
      "min       0.000000     0.000000           0.000000           0.000000   \n",
      "25%       0.257528     0.261004           0.275938           0.384482   \n",
      "50%       0.351295     0.369320           0.377205           0.472067   \n",
      "75%       0.471806     0.484620           0.503987           0.576006   \n",
      "max       1.000000     1.000000           1.000000           1.000000   \n",
      "\n",
      "       Convex_Area  Equiv_Diameter  Eccentricity     Solidity       Extent  \\\n",
      "count  2500.000000     2500.000000   2500.000000  2500.000000  2500.000000   \n",
      "mean      0.368172        0.425291      0.808727     0.935245     0.622800   \n",
      "std       0.152904        0.158239      0.099051     0.046090     0.168456   \n",
      "min       0.000000        0.000000      0.000000     0.000000     0.000000   \n",
      "25%       0.257126        0.312511      0.744737     0.919525     0.527931   \n",
      "50%       0.349997        0.413352      0.814912     0.945910     0.677683   \n",
      "75%       0.471370        0.535463      0.887993     0.961741     0.752835   \n",
      "max       1.000000        1.000000      1.000000     1.000000     1.000000   \n",
      "\n",
      "         Roundness  Aspect_Ration  Compactness      Class  \n",
      "count  2500.000000    2500.000000  2500.000000  2500.0000  \n",
      "mean      0.615410       0.447463     0.416508     0.4800  \n",
      "std       0.145257       0.158339     0.154219     0.4997  \n",
      "min       0.000000       0.000000     0.000000     0.0000  \n",
      "25%       0.512468       0.326878     0.298387     0.0000  \n",
      "50%       0.631558       0.418650     0.426911     0.0000  \n",
      "75%       0.726558       0.557887     0.530950     1.0000  \n",
      "max       1.000000       1.000000     1.000000     1.0000  \n"
     ]
    }
   ],
   "source": [
    "from sklearn.preprocessing import MinMaxScaler\n",
    "\n",
    "scaler = MinMaxScaler()\n",
    "df[numerical_cols] = scaler.fit_transform(df[numerical_cols])\n",
    "\n",
    "# Check the normalized data\n",
    "print(df.describe())\n"
   ]
  },
  {
   "cell_type": "code",
   "execution_count": 13,
   "metadata": {
    "colab": {
     "base_uri": "https://localhost:8080/"
    },
    "executionInfo": {
     "elapsed": 9,
     "status": "ok",
     "timestamp": 1732652184866,
     "user": {
      "displayName": "Maxine Beatriz Badiola",
      "userId": "09199181290299414146"
     },
     "user_tz": -480
    },
    "id": "Dxe9cx4MQy5n",
    "outputId": "be5935f5-5a44-4086-fd68-ec78f6686113",
    "ExecuteTime": {
     "end_time": "2024-11-27T02:21:39.122743Z",
     "start_time": "2024-11-27T02:21:39.106001Z"
    }
   },
   "outputs": [
    {
     "name": "stdout",
     "output_type": "stream",
     "text": [
      "Number of outliers in each column:\n",
      "Area                 13\n",
      "Perimeter             8\n",
      "Major_Axis_Length     8\n",
      "Minor_Axis_Length     9\n",
      "Convex_Area          13\n",
      "Equiv_Diameter        9\n",
      "Eccentricity         14\n",
      "Solidity             29\n",
      "Extent               13\n",
      "Roundness             4\n",
      "Aspect_Ration         8\n",
      "Compactness           2\n",
      "Class                 0\n",
      "dtype: int64\n"
     ]
    }
   ],
   "source": [
    "# Calculate Z-scores for each numerical column\n",
    "z_scores = df[numerical_cols].apply(zscore)\n",
    "\n",
    "# Identify outliers (absolute Z-score > 3)\n",
    "outliers = (z_scores.abs() > 3).sum()\n",
    "print(\"Number of outliers in each column:\")\n",
    "print(outliers)\n"
   ]
  },
  {
   "cell_type": "markdown",
   "metadata": {
    "id": "ZQmq-byNaiSp"
   },
   "source": [
    "Check cleaned dataset."
   ]
  },
  {
   "cell_type": "code",
   "execution_count": 14,
   "metadata": {
    "colab": {
     "base_uri": "https://localhost:8080/",
     "height": 444
    },
    "executionInfo": {
     "elapsed": 8,
     "status": "ok",
     "timestamp": 1732652184866,
     "user": {
      "displayName": "Maxine Beatriz Badiola",
      "userId": "09199181290299414146"
     },
     "user_tz": -480
    },
    "id": "C7wbKmcTaoq6",
    "outputId": "2fb5a4f7-b41c-46f5-ab39-8cabc110d00a",
    "ExecuteTime": {
     "end_time": "2024-11-27T02:21:39.139896Z",
     "start_time": "2024-11-27T02:21:39.125002Z"
    }
   },
   "outputs": [
    {
     "data": {
      "text/plain": "          Area  Perimeter  Major_Axis_Length  Minor_Axis_Length  Convex_Area  \\\n0     0.094060   0.028593           0.015551           0.443011     0.094037   \n1     0.323710   0.288960           0.282492           0.534065     0.321202   \n2     0.267208   0.310438           0.337143           0.383178     0.269913   \n3     0.208936   0.178831           0.178027           0.457938     0.208314   \n4     0.204975   0.187652           0.184843           0.444415     0.208303   \n...        ...        ...                ...                ...          ...   \n2495  0.357624   0.515547           0.622479           0.249046     0.355651   \n2496  0.244915   0.312365           0.416625           0.258055     0.242729   \n2497  0.451910   0.494712           0.546449           0.455692     0.448088   \n2498  0.361844   0.455106           0.530869           0.342223     0.361439   \n2499  0.417386   0.421798           0.416489           0.536218     0.415639   \n\n      Equiv_Diameter  Eccentricity  Solidity    Extent  Roundness  \\\n0           0.121346      0.538377  0.944591  0.766869   0.887532   \n1           0.384261      0.735526  0.963061  0.683352   0.751688   \n2           0.323187      0.839474  0.885224  0.752212   0.552727   \n3           0.257917      0.702193  0.944591  0.751106   0.763636   \n4           0.253390      0.716228  0.875989  0.573009   0.725195   \n...              ...           ...       ...       ...        ...   \n2495        0.419964      0.969079  0.951187  0.057522   0.292468   \n2496        0.298503      0.916667  0.967018  0.365597   0.492987   \n2497        0.515824      0.892325  0.968338  0.819414   0.520260   \n2498        0.424359      0.923026  0.928760  0.745022   0.425714   \n2499        0.481275      0.811404  0.943272  0.741150   0.620000   \n\n      Aspect_Ration  Compactness  Class  \n0          0.166458     0.755304    0.0  \n1          0.316881     0.546062    0.0  \n2          0.459187     0.383900    0.0  \n3          0.283560     0.585876    0.0  \n4          0.296938     0.566405    0.0  \n...             ...          ...    ...  \n2495       0.827229     0.106074    1.0  \n2496       0.633712     0.239756    1.0  \n2497       0.568272     0.287998    1.0  \n2498       0.652703     0.218251    1.0  \n2499       0.413289     0.434757    1.0  \n\n[2500 rows x 13 columns]",
      "text/html": "<div>\n<style scoped>\n    .dataframe tbody tr th:only-of-type {\n        vertical-align: middle;\n    }\n\n    .dataframe tbody tr th {\n        vertical-align: top;\n    }\n\n    .dataframe thead th {\n        text-align: right;\n    }\n</style>\n<table border=\"1\" class=\"dataframe\">\n  <thead>\n    <tr style=\"text-align: right;\">\n      <th></th>\n      <th>Area</th>\n      <th>Perimeter</th>\n      <th>Major_Axis_Length</th>\n      <th>Minor_Axis_Length</th>\n      <th>Convex_Area</th>\n      <th>Equiv_Diameter</th>\n      <th>Eccentricity</th>\n      <th>Solidity</th>\n      <th>Extent</th>\n      <th>Roundness</th>\n      <th>Aspect_Ration</th>\n      <th>Compactness</th>\n      <th>Class</th>\n    </tr>\n  </thead>\n  <tbody>\n    <tr>\n      <th>0</th>\n      <td>0.094060</td>\n      <td>0.028593</td>\n      <td>0.015551</td>\n      <td>0.443011</td>\n      <td>0.094037</td>\n      <td>0.121346</td>\n      <td>0.538377</td>\n      <td>0.944591</td>\n      <td>0.766869</td>\n      <td>0.887532</td>\n      <td>0.166458</td>\n      <td>0.755304</td>\n      <td>0.0</td>\n    </tr>\n    <tr>\n      <th>1</th>\n      <td>0.323710</td>\n      <td>0.288960</td>\n      <td>0.282492</td>\n      <td>0.534065</td>\n      <td>0.321202</td>\n      <td>0.384261</td>\n      <td>0.735526</td>\n      <td>0.963061</td>\n      <td>0.683352</td>\n      <td>0.751688</td>\n      <td>0.316881</td>\n      <td>0.546062</td>\n      <td>0.0</td>\n    </tr>\n    <tr>\n      <th>2</th>\n      <td>0.267208</td>\n      <td>0.310438</td>\n      <td>0.337143</td>\n      <td>0.383178</td>\n      <td>0.269913</td>\n      <td>0.323187</td>\n      <td>0.839474</td>\n      <td>0.885224</td>\n      <td>0.752212</td>\n      <td>0.552727</td>\n      <td>0.459187</td>\n      <td>0.383900</td>\n      <td>0.0</td>\n    </tr>\n    <tr>\n      <th>3</th>\n      <td>0.208936</td>\n      <td>0.178831</td>\n      <td>0.178027</td>\n      <td>0.457938</td>\n      <td>0.208314</td>\n      <td>0.257917</td>\n      <td>0.702193</td>\n      <td>0.944591</td>\n      <td>0.751106</td>\n      <td>0.763636</td>\n      <td>0.283560</td>\n      <td>0.585876</td>\n      <td>0.0</td>\n    </tr>\n    <tr>\n      <th>4</th>\n      <td>0.204975</td>\n      <td>0.187652</td>\n      <td>0.184843</td>\n      <td>0.444415</td>\n      <td>0.208303</td>\n      <td>0.253390</td>\n      <td>0.716228</td>\n      <td>0.875989</td>\n      <td>0.573009</td>\n      <td>0.725195</td>\n      <td>0.296938</td>\n      <td>0.566405</td>\n      <td>0.0</td>\n    </tr>\n    <tr>\n      <th>...</th>\n      <td>...</td>\n      <td>...</td>\n      <td>...</td>\n      <td>...</td>\n      <td>...</td>\n      <td>...</td>\n      <td>...</td>\n      <td>...</td>\n      <td>...</td>\n      <td>...</td>\n      <td>...</td>\n      <td>...</td>\n      <td>...</td>\n    </tr>\n    <tr>\n      <th>2495</th>\n      <td>0.357624</td>\n      <td>0.515547</td>\n      <td>0.622479</td>\n      <td>0.249046</td>\n      <td>0.355651</td>\n      <td>0.419964</td>\n      <td>0.969079</td>\n      <td>0.951187</td>\n      <td>0.057522</td>\n      <td>0.292468</td>\n      <td>0.827229</td>\n      <td>0.106074</td>\n      <td>1.0</td>\n    </tr>\n    <tr>\n      <th>2496</th>\n      <td>0.244915</td>\n      <td>0.312365</td>\n      <td>0.416625</td>\n      <td>0.258055</td>\n      <td>0.242729</td>\n      <td>0.298503</td>\n      <td>0.916667</td>\n      <td>0.967018</td>\n      <td>0.365597</td>\n      <td>0.492987</td>\n      <td>0.633712</td>\n      <td>0.239756</td>\n      <td>1.0</td>\n    </tr>\n    <tr>\n      <th>2497</th>\n      <td>0.451910</td>\n      <td>0.494712</td>\n      <td>0.546449</td>\n      <td>0.455692</td>\n      <td>0.448088</td>\n      <td>0.515824</td>\n      <td>0.892325</td>\n      <td>0.968338</td>\n      <td>0.819414</td>\n      <td>0.520260</td>\n      <td>0.568272</td>\n      <td>0.287998</td>\n      <td>1.0</td>\n    </tr>\n    <tr>\n      <th>2498</th>\n      <td>0.361844</td>\n      <td>0.455106</td>\n      <td>0.530869</td>\n      <td>0.342223</td>\n      <td>0.361439</td>\n      <td>0.424359</td>\n      <td>0.923026</td>\n      <td>0.928760</td>\n      <td>0.745022</td>\n      <td>0.425714</td>\n      <td>0.652703</td>\n      <td>0.218251</td>\n      <td>1.0</td>\n    </tr>\n    <tr>\n      <th>2499</th>\n      <td>0.417386</td>\n      <td>0.421798</td>\n      <td>0.416489</td>\n      <td>0.536218</td>\n      <td>0.415639</td>\n      <td>0.481275</td>\n      <td>0.811404</td>\n      <td>0.943272</td>\n      <td>0.741150</td>\n      <td>0.620000</td>\n      <td>0.413289</td>\n      <td>0.434757</td>\n      <td>1.0</td>\n    </tr>\n  </tbody>\n</table>\n<p>2500 rows × 13 columns</p>\n</div>"
     },
     "metadata": {},
     "output_type": "display_data"
    }
   ],
   "source": [
    "display(df)"
   ]
  },
  {
   "cell_type": "markdown",
   "metadata": {
    "id": "AF6spbYlbEoN"
   },
   "source": [
    "# Section 5. Exploratory data analysis"
   ]
  },
  {
   "cell_type": "markdown",
   "metadata": {
    "id": "Iq0DV2l3fP_U"
   },
   "source": [
    "Display dataset information."
   ]
  },
  {
   "cell_type": "code",
   "execution_count": 15,
   "metadata": {
    "colab": {
     "base_uri": "https://localhost:8080/",
     "height": 1000
    },
    "executionInfo": {
     "elapsed": 582,
     "status": "ok",
     "timestamp": 1732652185441,
     "user": {
      "displayName": "Maxine Beatriz Badiola",
      "userId": "09199181290299414146"
     },
     "user_tz": -480
    },
    "id": "KgGIdf7Zcim1",
    "outputId": "55ef9172-5893-4108-ad05-dbc3b29da313",
    "ExecuteTime": {
     "end_time": "2024-11-27T02:21:39.184705Z",
     "start_time": "2024-11-27T02:21:39.142811Z"
    }
   },
   "outputs": [
    {
     "data": {
      "text/plain": "       Area  Perimeter  Major_Axis_Length  Minor_Axis_Length  Convex_Area  \\\n0  0.094060   0.028593           0.015551           0.443011     0.094037   \n1  0.323710   0.288960           0.282492           0.534065     0.321202   \n2  0.267208   0.310438           0.337143           0.383178     0.269913   \n3  0.208936   0.178831           0.178027           0.457938     0.208314   \n4  0.204975   0.187652           0.184843           0.444415     0.208303   \n\n   Equiv_Diameter  Eccentricity  Solidity    Extent  Roundness  Aspect_Ration  \\\n0        0.121346      0.538377  0.944591  0.766869   0.887532       0.166458   \n1        0.384261      0.735526  0.963061  0.683352   0.751688       0.316881   \n2        0.323187      0.839474  0.885224  0.752212   0.552727       0.459187   \n3        0.257917      0.702193  0.944591  0.751106   0.763636       0.283560   \n4        0.253390      0.716228  0.875989  0.573009   0.725195       0.296938   \n\n   Compactness  Class  \n0     0.755304    0.0  \n1     0.546062    0.0  \n2     0.383900    0.0  \n3     0.585876    0.0  \n4     0.566405    0.0  ",
      "text/html": "<div>\n<style scoped>\n    .dataframe tbody tr th:only-of-type {\n        vertical-align: middle;\n    }\n\n    .dataframe tbody tr th {\n        vertical-align: top;\n    }\n\n    .dataframe thead th {\n        text-align: right;\n    }\n</style>\n<table border=\"1\" class=\"dataframe\">\n  <thead>\n    <tr style=\"text-align: right;\">\n      <th></th>\n      <th>Area</th>\n      <th>Perimeter</th>\n      <th>Major_Axis_Length</th>\n      <th>Minor_Axis_Length</th>\n      <th>Convex_Area</th>\n      <th>Equiv_Diameter</th>\n      <th>Eccentricity</th>\n      <th>Solidity</th>\n      <th>Extent</th>\n      <th>Roundness</th>\n      <th>Aspect_Ration</th>\n      <th>Compactness</th>\n      <th>Class</th>\n    </tr>\n  </thead>\n  <tbody>\n    <tr>\n      <th>0</th>\n      <td>0.094060</td>\n      <td>0.028593</td>\n      <td>0.015551</td>\n      <td>0.443011</td>\n      <td>0.094037</td>\n      <td>0.121346</td>\n      <td>0.538377</td>\n      <td>0.944591</td>\n      <td>0.766869</td>\n      <td>0.887532</td>\n      <td>0.166458</td>\n      <td>0.755304</td>\n      <td>0.0</td>\n    </tr>\n    <tr>\n      <th>1</th>\n      <td>0.323710</td>\n      <td>0.288960</td>\n      <td>0.282492</td>\n      <td>0.534065</td>\n      <td>0.321202</td>\n      <td>0.384261</td>\n      <td>0.735526</td>\n      <td>0.963061</td>\n      <td>0.683352</td>\n      <td>0.751688</td>\n      <td>0.316881</td>\n      <td>0.546062</td>\n      <td>0.0</td>\n    </tr>\n    <tr>\n      <th>2</th>\n      <td>0.267208</td>\n      <td>0.310438</td>\n      <td>0.337143</td>\n      <td>0.383178</td>\n      <td>0.269913</td>\n      <td>0.323187</td>\n      <td>0.839474</td>\n      <td>0.885224</td>\n      <td>0.752212</td>\n      <td>0.552727</td>\n      <td>0.459187</td>\n      <td>0.383900</td>\n      <td>0.0</td>\n    </tr>\n    <tr>\n      <th>3</th>\n      <td>0.208936</td>\n      <td>0.178831</td>\n      <td>0.178027</td>\n      <td>0.457938</td>\n      <td>0.208314</td>\n      <td>0.257917</td>\n      <td>0.702193</td>\n      <td>0.944591</td>\n      <td>0.751106</td>\n      <td>0.763636</td>\n      <td>0.283560</td>\n      <td>0.585876</td>\n      <td>0.0</td>\n    </tr>\n    <tr>\n      <th>4</th>\n      <td>0.204975</td>\n      <td>0.187652</td>\n      <td>0.184843</td>\n      <td>0.444415</td>\n      <td>0.208303</td>\n      <td>0.253390</td>\n      <td>0.716228</td>\n      <td>0.875989</td>\n      <td>0.573009</td>\n      <td>0.725195</td>\n      <td>0.296938</td>\n      <td>0.566405</td>\n      <td>0.0</td>\n    </tr>\n  </tbody>\n</table>\n</div>"
     },
     "metadata": {},
     "output_type": "display_data"
    },
    {
     "name": "stdout",
     "output_type": "stream",
     "text": [
      "<class 'pandas.core.frame.DataFrame'>\n",
      "RangeIndex: 2500 entries, 0 to 2499\n",
      "Data columns (total 13 columns):\n",
      " #   Column             Non-Null Count  Dtype  \n",
      "---  ------             --------------  -----  \n",
      " 0   Area               2500 non-null   float64\n",
      " 1   Perimeter          2500 non-null   float64\n",
      " 2   Major_Axis_Length  2500 non-null   float64\n",
      " 3   Minor_Axis_Length  2500 non-null   float64\n",
      " 4   Convex_Area        2500 non-null   float64\n",
      " 5   Equiv_Diameter     2500 non-null   float64\n",
      " 6   Eccentricity       2500 non-null   float64\n",
      " 7   Solidity           2500 non-null   float64\n",
      " 8   Extent             2500 non-null   float64\n",
      " 9   Roundness          2500 non-null   float64\n",
      " 10  Aspect_Ration      2500 non-null   float64\n",
      " 11  Compactness        2500 non-null   float64\n",
      " 12  Class              2500 non-null   float64\n",
      "dtypes: float64(13)\n",
      "memory usage: 254.0 KB\n",
      "None\n",
      "              Area    Perimeter  Major_Axis_Length  Minor_Axis_Length  \\\n",
      "count  2500.000000  2500.000000        2500.000000        2500.000000   \n",
      "mean      0.369146     0.378882           0.398037           0.479173   \n",
      "std       0.154166     0.158121           0.164882           0.151629   \n",
      "min       0.000000     0.000000           0.000000           0.000000   \n",
      "25%       0.257528     0.261004           0.275938           0.384482   \n",
      "50%       0.351295     0.369320           0.377205           0.472067   \n",
      "75%       0.471806     0.484620           0.503987           0.576006   \n",
      "max       1.000000     1.000000           1.000000           1.000000   \n",
      "\n",
      "       Convex_Area  Equiv_Diameter  Eccentricity     Solidity       Extent  \\\n",
      "count  2500.000000     2500.000000   2500.000000  2500.000000  2500.000000   \n",
      "mean      0.368172        0.425291      0.808727     0.935245     0.622800   \n",
      "std       0.152904        0.158239      0.099051     0.046090     0.168456   \n",
      "min       0.000000        0.000000      0.000000     0.000000     0.000000   \n",
      "25%       0.257126        0.312511      0.744737     0.919525     0.527931   \n",
      "50%       0.349997        0.413352      0.814912     0.945910     0.677683   \n",
      "75%       0.471370        0.535463      0.887993     0.961741     0.752835   \n",
      "max       1.000000        1.000000      1.000000     1.000000     1.000000   \n",
      "\n",
      "         Roundness  Aspect_Ration  Compactness      Class  \n",
      "count  2500.000000    2500.000000  2500.000000  2500.0000  \n",
      "mean      0.615410       0.447463     0.416508     0.4800  \n",
      "std       0.145257       0.158339     0.154219     0.4997  \n",
      "min       0.000000       0.000000     0.000000     0.0000  \n",
      "25%       0.512468       0.326878     0.298387     0.0000  \n",
      "50%       0.631558       0.418650     0.426911     0.0000  \n",
      "75%       0.726558       0.557887     0.530950     1.0000  \n",
      "max       1.000000       1.000000     1.000000     1.0000  \n"
     ]
    }
   ],
   "source": [
    "display(df.head())\n",
    "print(df.info())\n",
    "print(df.describe())"
   ]
  },
  {
   "cell_type": "markdown",
   "metadata": {
    "id": "s8FQ82ASfS47"
   },
   "source": [
    "Analyze the `Class` Variable"
   ]
  },
  {
   "cell_type": "code",
   "execution_count": 16,
   "metadata": {
    "colab": {
     "base_uri": "https://localhost:8080/",
     "height": 124
    },
    "executionInfo": {
     "elapsed": 2738,
     "status": "ok",
     "timestamp": 1732652188177,
     "user": {
      "displayName": "Maxine Beatriz Badiola",
      "userId": "09199181290299414146"
     },
     "user_tz": -480
    },
    "id": "_hVny9NNcvTB",
    "outputId": "9d44699a-572d-4e68-a2a3-ef0218d6f2c5",
    "ExecuteTime": {
     "end_time": "2024-11-27T02:21:39.296165Z",
     "start_time": "2024-11-27T02:21:39.188264Z"
    }
   },
   "outputs": [
    {
     "name": "stdout",
     "output_type": "stream",
     "text": [
      "Class\n",
      "0.0    1300\n",
      "1.0    1200\n",
      "Name: count, dtype: int64\n"
     ]
    },
    {
     "ename": "ModuleNotFoundError",
     "evalue": "No module named 'seaborn'",
     "output_type": "error",
     "traceback": [
      "\u001B[0;31m---------------------------------------------------------------------------\u001B[0m",
      "\u001B[0;31mModuleNotFoundError\u001B[0m                       Traceback (most recent call last)",
      "Cell \u001B[0;32mIn[16], line 3\u001B[0m\n\u001B[1;32m      1\u001B[0m \u001B[38;5;28mprint\u001B[39m(df[\u001B[38;5;124m'\u001B[39m\u001B[38;5;124mClass\u001B[39m\u001B[38;5;124m'\u001B[39m]\u001B[38;5;241m.\u001B[39mvalue_counts())\n\u001B[0;32m----> 3\u001B[0m \u001B[38;5;28;01mimport\u001B[39;00m \u001B[38;5;21;01mseaborn\u001B[39;00m \u001B[38;5;28;01mas\u001B[39;00m \u001B[38;5;21;01msns\u001B[39;00m\n\u001B[1;32m      4\u001B[0m \u001B[38;5;28;01mimport\u001B[39;00m \u001B[38;5;21;01mmatplotlib\u001B[39;00m\u001B[38;5;21;01m.\u001B[39;00m\u001B[38;5;21;01mpyplot\u001B[39;00m \u001B[38;5;28;01mas\u001B[39;00m \u001B[38;5;21;01mplt\u001B[39;00m\n\u001B[1;32m      6\u001B[0m sns\u001B[38;5;241m.\u001B[39mcountplot(data\u001B[38;5;241m=\u001B[39mdf, x\u001B[38;5;241m=\u001B[39m\u001B[38;5;124m'\u001B[39m\u001B[38;5;124mClass\u001B[39m\u001B[38;5;124m'\u001B[39m)\n",
      "\u001B[0;31mModuleNotFoundError\u001B[0m: No module named 'seaborn'"
     ]
    }
   ],
   "source": [
    "print(df['Class'].value_counts())\n",
    "\n",
    "import seaborn as sns\n",
    "import matplotlib.pyplot as plt\n",
    "\n",
    "sns.countplot(data=df, x='Class')\n",
    "plt.title(\"Distribution of Target Variable (Class)\")\n",
    "plt.xlabel(\"Class (0 = Cercevelik, 1 = Urgup Sivrisi)\")\n",
    "plt.ylabel(\"Count\")\n",
    "plt.show()\n"
   ]
  },
  {
   "cell_type": "markdown",
   "metadata": {
    "id": "u2vCa6fMfZw6"
   },
   "source": [
    "Visualize the distribution of numerical features."
   ]
  },
  {
   "cell_type": "code",
   "execution_count": null,
   "metadata": {
    "colab": {
     "base_uri": "https://localhost:8080/",
     "height": 54
    },
    "executionInfo": {
     "elapsed": 5443,
     "status": "ok",
     "timestamp": 1732652193617,
     "user": {
      "displayName": "Maxine Beatriz Badiola",
      "userId": "09199181290299414146"
     },
     "user_tz": -480
    },
    "id": "vxNbQDkec9D8",
    "outputId": "ce3984ea-5b21-4e37-9f35-1da7076be502"
   },
   "outputs": [],
   "source": [
    "# Plot histograms for all numerical features\n",
    "df.loc[:, df.columns != 'Class'].hist(bins=20, figsize=(20, 15), edgecolor='black')\n",
    "plt.suptitle(\"Feature Distributions (Excluding Class)\", fontsize=20)\n",
    "plt.show()"
   ]
  },
  {
   "cell_type": "markdown",
   "metadata": {
    "id": "GzZvkmv5fd_D"
   },
   "source": [
    "Check correlation between pictures."
   ]
  },
  {
   "cell_type": "code",
   "execution_count": null,
   "metadata": {
    "colab": {
     "base_uri": "https://localhost:8080/",
     "height": 54
    },
    "executionInfo": {
     "elapsed": 6,
     "status": "ok",
     "timestamp": 1732652193617,
     "user": {
      "displayName": "Maxine Beatriz Badiola",
      "userId": "09199181290299414146"
     },
     "user_tz": -480
    },
    "id": "zUbuAJQNdJRg",
    "outputId": "b66fc03a-8356-4b7d-8c19-2a4845d995e9"
   },
   "outputs": [],
   "source": [
    "# correlation matrix\n",
    "corr_matrix = df.corr()\n",
    "\n",
    "#heatmap\n",
    "plt.figure(figsize=(12, 8))\n",
    "sns.heatmap(corr_matrix, annot=True, cmap='coolwarm', fmt='.2f')\n",
    "plt.title(\"Correlation Heatmap\")\n",
    "plt.show()\n"
   ]
  },
  {
   "cell_type": "markdown",
   "metadata": {
    "id": "4H9-TNa-fklL"
   },
   "source": [
    "Visualize the relationship between features and the `Class` variable."
   ]
  },
  {
   "cell_type": "code",
   "execution_count": null,
   "metadata": {
    "colab": {
     "base_uri": "https://localhost:8080/",
     "height": 245
    },
    "executionInfo": {
     "elapsed": 2943,
     "status": "ok",
     "timestamp": 1732652196556,
     "user": {
      "displayName": "Maxine Beatriz Badiola",
      "userId": "09199181290299414146"
     },
     "user_tz": -480
    },
    "id": "Vlj1gLWkdRTZ",
    "outputId": "c179943b-0345-45e9-ee22-f8f4c02e6804"
   },
   "outputs": [],
   "source": [
    "# Boxplots for numerical features grouped by 'Class'\n",
    "for col in df.columns[:-1]:  # Exclude 'Class'\n",
    "    plt.figure(figsize=(8, 4))\n",
    "    sns.boxplot(x='Class', y=col, data=df)\n",
    "    plt.title(f\"{col} by Class\")\n",
    "    plt.xlabel(\"Class (0 = Cercevelik, 1 = Urgup Sivrisi)\")\n",
    "    plt.ylabel(col)\n",
    "    plt.show()\n"
   ]
  },
  {
   "cell_type": "code",
   "execution_count": null,
   "metadata": {
    "colab": {
     "background_save": true
    },
    "id": "N_JIVudNfAik"
   },
   "outputs": [],
   "source": [
    "# pairwise relationships\n",
    "sns.pairplot(df, hue='Class', diag_kind='kde', corner=True)\n",
    "plt.suptitle(\"Pairplot of Features by Class\", y=1.02)\n",
    "plt.show()\n"
   ]
  },
  {
   "cell_type": "markdown",
   "metadata": {
    "id": "8npj5BOVbW3n"
   },
   "source": [
    "# Section 6. Initial model training"
   ]
  },
  {
   "cell_type": "markdown",
   "metadata": {
    "id": "y5d-1DDGbhkf"
   },
   "source": [
    "## I. KNN"
   ]
  },
  {
   "cell_type": "markdown",
   "metadata": {
    "id": "EJ_6jhpmbspn"
   },
   "source": [
    "## II. Decision Trees"
   ]
  },
  {
   "cell_type": "markdown",
   "metadata": {
    "id": "ANU2kTLnbyMj"
   },
   "source": [
    "## III. Logistic Regression"
   ]
  },
  {
   "cell_type": "markdown",
   "metadata": {
    "id": "rlk-J12U8GzS"
   },
   "source": [
    "REFERENCE: [Logistic Regression: Sklearn\\Scikit](https://www.datacamp.com/tutorial/understanding-logistic-regression-python)"
   ]
  },
  {
   "cell_type": "code",
   "execution_count": null,
   "metadata": {
    "colab": {
     "background_save": true
    },
    "collapsed": true,
    "id": "fOyVOr_38GX-"
   },
   "outputs": [],
   "source": [
    "display(df.head())\n",
    "print(df.info())\n",
    "print(df.describe())"
   ]
  },
  {
   "cell_type": "code",
   "execution_count": null,
   "metadata": {
    "colab": {
     "background_save": true
    },
    "id": "5c6YiEGaGvSP"
   },
   "outputs": [],
   "source": [
    "##import logistic regression libraries\n",
    "from sklearn.model_selection import train_test_split\n",
    "from sklearn.preprocessing import StandardScaler #not used for now\n",
    "from sklearn.linear_model import LogisticRegression\n",
    "from sklearn.metrics import accuracy_score, confusion_matrix, classification_report"
   ]
  },
  {
   "cell_type": "code",
   "execution_count": null,
   "metadata": {
    "id": "dtBxD4JtG2At"
   },
   "outputs": [],
   "source": [
    "#logistic regression table copy\n",
    "df_logistic = df.copy()\n",
    "X_logistic = df_logistic.drop('Class', axis=1)  #features\n",
    "y_logistic = df_logistic['Class']  #target\n",
    "\n",
    "#training set = 70%, test set = 30%\n",
    "X_train_logistic, X_test_logistic, y_train_logistic, y_test_logistic = train_test_split(\n",
    "    X_logistic, y_logistic, test_size=0.3, random_state=1\n",
    ")\n",
    "\n",
    "model_logistic = LogisticRegression()\n",
    "model_logistic.fit(X_train_logistic, y_train_logistic)\n",
    "y_pred_logistic = model_logistic.predict(X_test_logistic)"
   ]
  },
  {
   "cell_type": "code",
   "execution_count": null,
   "metadata": {
    "id": "0qcyDsXuHqui"
   },
   "outputs": [],
   "source": [
    "#summarize results"
   ]
  },
  {
   "cell_type": "markdown",
   "metadata": {
    "id": "9IbRjA2BGNHJ"
   },
   "source": []
  },
  {
   "cell_type": "markdown",
   "metadata": {
    "id": "-zRUxCiWb5Nh"
   },
   "source": [
    "# Section 7. Error analysis"
   ]
  },
  {
   "cell_type": "markdown",
   "metadata": {
    "id": "9r5mfhoucMVT"
   },
   "source": [
    "## I. Logistic Regression"
   ]
  },
  {
   "cell_type": "markdown",
   "metadata": {
    "id": "vR9e7B1IcSu4"
   },
   "source": [
    "##II. ML 2"
   ]
  },
  {
   "cell_type": "markdown",
   "metadata": {
    "id": "ExTf7VeVcVJd"
   },
   "source": [
    "##III. ML 3"
   ]
  },
  {
   "cell_type": "markdown",
   "metadata": {
    "id": "hVKyHzdNcZcB"
   },
   "source": [
    "# Section 8. Improving model Performance"
   ]
  },
  {
   "cell_type": "markdown",
   "metadata": {
    "id": "jjDyzwT_ch3c"
   },
   "source": [
    "##I. Logistic Regression"
   ]
  },
  {
   "cell_type": "markdown",
   "metadata": {
    "id": "YNvgMg2vcj7Z"
   },
   "source": [
    "##II. ML 2"
   ]
  },
  {
   "cell_type": "markdown",
   "metadata": {
    "id": "2SS0VKsIcqZd"
   },
   "source": [
    "## III. ML 3"
   ]
  },
  {
   "cell_type": "markdown",
   "metadata": {
    "id": "DqmxAfVmdmPo"
   },
   "source": [
    "# Section 9. Model performance summary"
   ]
  },
  {
   "cell_type": "markdown",
   "metadata": {
    "id": "1X2AcJiveGHP"
   },
   "source": [
    "## I. Logistic Regression"
   ]
  },
  {
   "cell_type": "markdown",
   "metadata": {
    "id": "5Va7_o6ReKOS"
   },
   "source": [
    "## II. ML 2"
   ]
  },
  {
   "cell_type": "markdown",
   "metadata": {
    "id": "lRuWtKOpeMXw"
   },
   "source": [
    "## III. ML 3"
   ]
  },
  {
   "cell_type": "markdown",
   "metadata": {
    "id": "xScKnDXYeO_t"
   },
   "source": [
    "# Section 10. Insights and conclusions"
   ]
  },
  {
   "cell_type": "markdown",
   "metadata": {
    "id": "WLHNy8BAeR-p"
   },
   "source": [
    "# Section 11. Reference"
   ]
  }
 ],
 "metadata": {
  "colab": {
   "collapsed_sections": [
    "-zRUxCiWb5Nh",
    "hVKyHzdNcZcB",
    "DqmxAfVmdmPo"
   ],
   "name": "",
   "toc_visible": true,
   "version": ""
  },
  "kernelspec": {
   "name": "python3",
   "language": "python",
   "display_name": "Python 3 (ipykernel)"
  },
  "language_info": {
   "name": "python"
  }
 },
 "nbformat": 4,
 "nbformat_minor": 0
}
